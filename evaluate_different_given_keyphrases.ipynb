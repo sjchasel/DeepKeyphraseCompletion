{
 "cells": [
  {
   "cell_type": "code",
   "execution_count": 1,
   "metadata": {},
   "outputs": [
    {
     "name": "stderr",
     "output_type": "stream",
     "text": [
      "<ipython-input-1-0b9e6023b198>:4: DeprecationWarning: Using or importing the ABCs from 'collections' instead of from 'collections.abc' is deprecated since Python 3.3, and in 3.9 it will stop working\n",
      "  from collections import Iterable\n"
     ]
    }
   ],
   "source": [
    "import json\n",
    "import os\n",
    "import gzip\n",
    "from collections import Iterable\n",
    "import configparser\n",
    "from pysenal import read_jsonline, write_json, append_line\n",
    "\n",
    "_ENCODING_UTF8 = 'utf-8'"
   ]
  },
  {
   "cell_type": "code",
   "execution_count": null,
   "metadata": {},
   "outputs": [],
   "source": [
    "\n"
   ]
  },
  {
   "cell_type": "code",
   "execution_count": 4,
   "metadata": {},
   "outputs": [],
   "source": [
    "datasets = ['inspec', 'krapivin', 'nus', 'semeval', 'kp20k']\n",
    "for data in datasets:\n",
    "    pred_origin = '/mnt/KeyphraseExpansion/data/jsonl/'+data+'/'+data+'_pred.jsonl'\n",
    "    pred1 = '/mnt/KeyphraseExpansion/data/jsonl/'+data+'/'+data+'_pred_1.jsonl'\n",
    "    pred2 = '/mnt/KeyphraseExpansion/data/jsonl/'+data+'/'+data+'_pred_2.jsonl'\n",
    "    pred3 = '/mnt/KeyphraseExpansion/data/jsonl/'+data+'/'+data+'_pred_3.jsonl'\n",
    "    pred4 = '/mnt/KeyphraseExpansion/data/jsonl/'+data+'/'+data+'_pred_4.jsonl'\n",
    "    pred5 = '/mnt/KeyphraseExpansion/data/jsonl/'+data+'/'+data+'_pred_5.jsonl'\n",
    "    dict_list = read_jsonline(pred_origin)\n",
    "    dictlist1 = []\n",
    "    dictlist2 = []\n",
    "    dictlist3 = []\n",
    "    dictlist4 = []\n",
    "    dictlist5 = []\n",
    "    for dd in dict_list:\n",
    "        if len(dd['given_keyword_tokens']) == 1:\n",
    "            dictlist1.append(dd)\n",
    "        elif len(dd['given_keyword_tokens']) == 2:\n",
    "            dictlist2.append(dd)\n",
    "        elif len(dd['given_keyword_tokens']) == 3:\n",
    "            dictlist3.append(dd)\n",
    "        elif len(dd['given_keyword_tokens']) == 4:\n",
    "            dictlist4.append(dd)\n",
    "        elif len(dd['given_keyword_tokens']) == 5:\n",
    "            dictlist5.append(dd)\n",
    "    for dic in dictlist1:\n",
    "        filename = pred1\n",
    "        append_line(filename, json.dumps(dic))\n",
    "    for dic in dictlist2:\n",
    "        filename = pred2\n",
    "        append_line(filename, json.dumps(dic))\n",
    "    for dic in dictlist3:\n",
    "        filename = pred3\n",
    "        append_line(filename, json.dumps(dic))\n",
    "    for dic in dictlist4:\n",
    "        filename = pred4\n",
    "        append_line(filename, json.dumps(dic))\n",
    "    for dic in dictlist5:\n",
    "        filename = pred5\n",
    "        append_line(filename, json.dumps(dic))"
   ]
  },
  {
   "cell_type": "code",
   "execution_count": 2,
   "metadata": {},
   "outputs": [
    {
     "name": "stdout",
     "output_type": "stream",
     "text": [
      "===============当前数据集是inspec============\n",
      "===========给了10个关键短语==================\n",
      "all OrderedDict([(5, {'precision': 0.31415929203539855, 'recall': 0.13032787860194078, 'f1': 0.18183240978135404}), (10, {'precision': 0.25986093552465245, 'recall': 0.2132782735916042, 'f1': 0.2305188170897598})])\n",
      "===============当前数据集是inspec============\n",
      "===========给了20个关键短语==================\n",
      "all OrderedDict([(5, {'precision': 0.2751677852349005, 'recall': 0.18369382529129977, 'f1': 0.2123606212114672}), (10, {'precision': 0.2176573985298817, 'recall': 0.2852643006438855, 'f1': 0.23756279576446687})])\n",
      "===============当前数据集是inspec============\n",
      "===========给了30个关键短语==================\n",
      "all OrderedDict([(5, {'precision': 0.24384133611691114, 'recall': 0.19258323106930592, 'f1': 0.20633987781259946}), (10, {'precision': 0.19592156277960046, 'recall': 0.3019893539624728, 'f1': 0.2278650047103215})])\n",
      "===============当前数据集是inspec============\n",
      "===========给了40个关键短语==================\n",
      "all OrderedDict([(5, {'precision': 0.20489795918367423, 'recall': 0.1941334303846153, 'f1': 0.19036908492474988}), (10, {'precision': 0.16239067055393583, 'recall': 0.29996278776859425, 'f1': 0.20179085988421933})])\n",
      "===============当前数据集是inspec============\n",
      "===========给了50个关键短语==================\n",
      "all OrderedDict([(5, {'precision': 0.1788000000000007, 'recall': 0.21389886779886785, 'f1': 0.1831352704399148}), (10, {'precision': 0.14137142857142895, 'recall': 0.32472985625485656, 'f1': 0.1874618918345535})])\n",
      "===============当前数据集是krapivin============\n",
      "===========给了10个关键短语==================\n",
      "all OrderedDict([(5, {'precision': 0.29583333333333334, 'recall': 0.11773014012274848, 'f1': 0.16647038389992522}), (10, {'precision': 0.22812500000000005, 'recall': 0.1837571567471915, 'f1': 0.20041103831133153})])\n",
      "===============当前数据集是krapivin============\n",
      "===========给了20个关键短语==================\n",
      "all OrderedDict([(5, {'precision': 0.19477611940298525, 'recall': 0.17462371425277493, 'f1': 0.17863660980556886}), (10, {'precision': 0.14776119402985097, 'recall': 0.2566229857110017, 'f1': 0.18122714235942344})])\n",
      "===============当前数据集是krapivin============\n",
      "===========给了30个关键短语==================\n",
      "all OrderedDict([(5, {'precision': 0.16986301369863052, 'recall': 0.18624400713441824, 'f1': 0.1718173275800825}), (10, {'precision': 0.12525114155251177, 'recall': 0.2751301096164113, 'f1': 0.16678561134160894})])\n",
      "===============当前数据集是krapivin============\n",
      "===========给了40个关键短语==================\n",
      "all OrderedDict([(5, {'precision': 0.1494145199063236, 'recall': 0.20609718800585328, 'f1': 0.1653768123756379}), (10, {'precision': 0.10492918478866994, 'recall': 0.2886481915170442, 'f1': 0.14777178309091488})])\n",
      "===============当前数据集是krapivin============\n",
      "===========给了50个关键短语==================\n",
      "all OrderedDict([(5, {'precision': 0.11353711790393035, 'recall': 0.21370355142189204, 'f1': 0.14118988120079817}), (10, {'precision': 0.0815034310667501, 'recall': 0.29277766750474177, 'f1': 0.122320872019555})])\n",
      "===============当前数据集是nus============\n",
      "===========给了10个关键短语==================\n",
      "all OrderedDict([(5, {'precision': 0.3658914728682172, 'recall': 0.14062902726418994, 'f1': 0.19890546539162823}), (10, {'precision': 0.27009966777408645, 'recall': 0.20959734065686528, 'f1': 0.22995444143039667})])\n",
      "===============当前数据集是nus============\n",
      "===========给了20个关键短语==================\n",
      "all OrderedDict([(5, {'precision': 0.3162790697674422, 'recall': 0.1674878026925921, 'f1': 0.2104895061333562}), (10, {'precision': 0.22855297157622742, 'recall': 0.2431999868328899, 'f1': 0.22547525170506771})])\n",
      "===============当前数据集是nus============\n",
      "===========给了30个关键短语==================\n",
      "all OrderedDict([(5, {'precision': 0.28359788359788385, 'recall': 0.1877534671099487, 'f1': 0.21243178237546465}), (10, {'precision': 0.1958259847148737, 'recall': 0.2564159996997727, 'f1': 0.20886795574503503})])\n",
      "===============当前数据集是nus============\n",
      "===========给了40个关键短语==================\n",
      "all OrderedDict([(5, {'precision': 0.2235294117647059, 'recall': 0.1942240855832761, 'f1': 0.19237042534300688}), (10, {'precision': 0.1661764705882354, 'recall': 0.2746502900606554, 'f1': 0.19322187851757425})])\n",
      "===============当前数据集是nus============\n",
      "===========给了50个关键短语==================\n",
      "all OrderedDict([(5, {'precision': 0.1876777251184835, 'recall': 0.20125598487596505, 'f1': 0.1765354743092333}), (10, {'precision': 0.13870458135861002, 'recall': 0.27938399825279364, 'f1': 0.17139841186167534})])\n",
      "===============当前数据集是semeval============\n",
      "===========给了10个关键短语==================\n",
      "all OrderedDict([(5, {'precision': 0.23469387755102036, 'recall': 0.08537811600971072, 'f1': 0.12420577922559986}), (10, {'precision': 0.1887755102040816, 'recall': 0.13608002125843474, 'f1': 0.15663453503460548})])\n",
      "===============当前数据集是semeval============\n",
      "===========给了20个关键短语==================\n",
      "all OrderedDict([(5, {'precision': 0.214141414141414, 'recall': 0.08682976940083609, 'f1': 0.12247115871779404}), (10, {'precision': 0.16161616161616146, 'recall': 0.12859188242549718, 'f1': 0.1416412458970441})])\n",
      "===============当前数据集是semeval============\n",
      "===========给了30个关键短语==================\n",
      "all OrderedDict([(5, {'precision': 0.17979797979797965, 'recall': 0.08299094696153515, 'f1': 0.11273477862510606}), (10, {'precision': 0.1416386083052749, 'recall': 0.12934606798829518, 'f1': 0.13390121491342696})])\n",
      "===============当前数据集是semeval============\n",
      "===========给了40个关键短语==================\n",
      "all OrderedDict([(5, {'precision': 0.14141414141414135, 'recall': 0.07585782623661408, 'f1': 0.09776601995679977}), (10, {'precision': 0.12424242424242418, 'recall': 0.1323077175349902, 'f1': 0.12695153082945398})])\n",
      "===============当前数据集是semeval============\n",
      "===========给了50个关键短语==================\n",
      "all OrderedDict([(5, {'precision': 0.13131313131313127, 'recall': 0.08621106727167335, 'f1': 0.1031316689516333}), (10, {'precision': 0.10909090909090903, 'recall': 0.1417827682979198, 'f1': 0.12202733249421689})])\n",
      "===============当前数据集是kp20k============\n",
      "===========给了10个关键短语==================\n",
      "all OrderedDict([(5, {'precision': 0.5379912663755464, 'recall': 0.16309897966376496, 'f1': 0.24339744506157532}), (10, {'precision': 0.4883382719900186, 'recall': 0.2863782531755893, 'f1': 0.34840841183109245})])\n",
      "===============当前数据集是kp20k============\n",
      "===========给了20个关键短语==================\n",
      "all OrderedDict([(5, {'precision': 0.22542479944413515, 'recall': 0.21289336754167087, 'f1': 0.2098703866330044}), (10, {'precision': 0.16907469070629494, 'recall': 0.3066811298170853, 'f1': 0.2065488888262025})])\n",
      "===============当前数据集是kp20k============\n",
      "===========给了30个关键短语==================\n",
      "all OrderedDict([(5, {'precision': 0.19725175631749176, 'recall': 0.23155973852950398, 'f1': 0.20517708985790212}), (10, {'precision': 0.1438563339774274, 'recall': 0.327392389441877, 'f1': 0.19135592553673902})])\n",
      "===============当前数据集是kp20k============\n",
      "===========给了40个关键短语==================\n",
      "all OrderedDict([(5, {'precision': 0.160726899950025, 'recall': 0.24537109553862077, 'f1': 0.186625128614811}), (10, {'precision': 0.1162735947741224, 'recall': 0.3417279667757068, 'f1': 0.16606325641259329})])\n",
      "===============当前数据集是kp20k============\n",
      "===========给了50个关键短语==================\n",
      "all OrderedDict([(5, {'precision': 0.1316164658634527, 'recall': 0.24570043951078635, 'f1': 0.16440783553465202}), (10, {'precision': 0.09493493816535042, 'recall': 0.3420818154820568, 'f1': 0.1424918240598731})])\n"
     ]
    }
   ],
   "source": [
    "# different given keyphrases\n",
    "from evaluation import KeyphraseEvaluator\n",
    "eval_topn = (5, 10)\n",
    "datasets = ['inspec','krapivin','nus','semeval','kp20k']\n",
    "num = ['10','20','30','40','50']\n",
    "for dataset in datasets:\n",
    "    for n in num:\n",
    "        pred_filename = '/mnt/KeyphraseExpansion/data/jsonl/'+dataset+'/'+dataset+'_pred'+str(n)+'.jsonl'\n",
    "        macro_evaluator = KeyphraseEvaluator(eval_topn, 'macro', 'title_and_abstract_tokens', 'keyword_tokens')\n",
    "        macro_all_ret = macro_evaluator.evaluate(pred_filename)\n",
    "        print(\"===============当前数据集是\"+dataset+'============')\n",
    "        print('===========给了'+str(n)+'个关键短语==================')\n",
    "        print('all',macro_all_ret)"
   ]
  },
  {
   "cell_type": "code",
   "execution_count": 9,
   "metadata": {},
   "outputs": [
    {
     "name": "stdout",
     "output_type": "stream",
     "text": [
      "===============当前数据集是semeval============\n",
      "===========给了3个关键短语==================\n",
      "all OrderedDict([(5, {'precision': 0.19560439560439555, 'recall': 0.08664713150815281, 'f1': 0.11890242634807668}), (10, {'precision': 0.15189255189255182, 'recall': 0.1347358299604582, 'f1': 0.1414920940495944})])\n",
      "===============当前数据集是semeval============\n",
      "===========给了5个关键短语==================\n",
      "all OrderedDict([(5, {'precision': 0.275, 'recall': 0.07483514239028943, 'f1': 0.11731883808345575}), (10, {'precision': 0.21250000000000002, 'recall': 0.11512313258636789, 'f1': 0.14863826699690078})])\n"
     ]
    }
   ],
   "source": [
    "# different given keyphrases\n",
    "from evaluation import KeyphraseEvaluator\n",
    "eval_topn = (5, 10)\n",
    "datasets = ['semeval']\n",
    "num = [3,5]\n",
    "for dataset in datasets:\n",
    "    for n in num:\n",
    "        pred_filename = '/mnt/KeyphraseExpansion/data/jsonl/'+dataset+'/'+dataset+'_pred_'+str(n)+'.jsonl'\n",
    "        macro_evaluator = KeyphraseEvaluator(eval_topn, 'macro', 'title_and_abstract_tokens', 'keyword_tokens')\n",
    "        macro_all_ret = macro_evaluator.evaluate(pred_filename)\n",
    "        print(\"===============当前数据集是\"+dataset+'============')\n",
    "        print('===========给了'+str(n)+'个关键短语==================')\n",
    "        print('all',macro_all_ret)"
   ]
  }
 ],
 "metadata": {
  "kernelspec": {
   "display_name": "myconda",
   "language": "python",
   "name": "myconda"
  },
  "language_info": {
   "codemirror_mode": {
    "name": "ipython",
    "version": 3
   },
   "file_extension": ".py",
   "mimetype": "text/x-python",
   "name": "python",
   "nbconvert_exporter": "python",
   "pygments_lexer": "ipython3",
   "version": "3.8.5"
  }
 },
 "nbformat": 4,
 "nbformat_minor": 4
}
