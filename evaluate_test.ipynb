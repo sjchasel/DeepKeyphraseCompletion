{
 "cells": [
  {
   "cell_type": "code",
   "execution_count": 2,
   "metadata": {},
   "outputs": [],
   "source": [
    "from evaluation import KeyphraseEvaluator"
   ]
  },
  {
   "cell_type": "code",
   "execution_count": 8,
   "metadata": {},
   "outputs": [
    {
     "name": "stdout",
     "output_type": "stream",
     "text": [
      "===============当前数据集是duc============\n",
      "----------------macro------------\n",
      "all OrderedDict([(5, {'precision': 0.04220779220779217, 'recall': 0.04625592661306946, 'f1': 0.04292035525801757}), (10, {'precision': 0.03928571428571423, 'recall': 0.08551587301587299, 'f1': 0.05250894831003188}), (20, {'precision': 0.030180249930913335, 'recall': 0.1284967017109874, 'f1': 0.04808714239831476}), (50, {'precision': 0.028321003237956808, 'recall': 0.16369562976705831, 'f1': 0.04732343240735958})])\n",
      "present OrderedDict([(5, {'precision': 0.07007575757575749, 'recall': 0.07920789527932384, 'f1': 0.07115872943795018}), (10, {'precision': 0.056512832405689495, 'recall': 0.1148294166151309, 'f1': 0.07213968867903166}), (20, {'precision': 0.05352887659954626, 'recall': 0.163910791589363, 'f1': 0.0752974927567018}), (50, {'precision': 0.05299826011122045, 'recall': 0.17294629973201406, 'f1': 0.07494656348886057})])\n",
      "absent OrderedDict([(5, {'precision': 0.0, 'recall': 0.0, 'f1': 0.0}), (10, {'precision': 0.0, 'recall': 0.0, 'f1': 0.0}), (20, {'precision': 0.0, 'recall': 0.0, 'f1': 0.0}), (50, {'precision': 0.0, 'recall': 0.0, 'f1': 0.0})])\n",
      "----------------micro------------\n",
      "all OrderedDict([(5, {'precision': 0.04220779220779221, 'recall': 0.04126984126984127, 'f1': 0.041733547351524874}), (10, {'precision': 0.039285714285714285, 'recall': 0.07682539682539682, 'f1': 0.05198711063372717}), (20, {'precision': 0.03036876355748373, 'recall': 0.11555555555555555, 'f1': 0.048097251585623675}), (50, {'precision': 0.02818920210224558, 'recall': 0.14984126984126983, 'f1': 0.04745149291243591})])\n",
      "present OrderedDict([(5, {'precision': 0.07104194857916103, 'recall': 0.06885245901639345, 'f1': 0.06993006993006992}), (10, {'precision': 0.05613530046779417, 'recall': 0.10229508196721311, 'f1': 0.0724907063197026}), (20, {'precision': 0.05087044992086819, 'recall': 0.14754098360655737, 'f1': 0.07565568258238063}), (50, {'precision': 0.04880066170388751, 'recall': 0.15475409836065573, 'f1': 0.07420216947020908})])\n",
      "absent OrderedDict([(5, {'precision': 0.0, 'recall': 0.0, 'f1': 0}), (10, {'precision': 0.0, 'recall': 0.0, 'f1': 0}), (20, {'precision': 0.0, 'recall': 0.0, 'f1': 0}), (50, {'precision': 0.0, 'recall': 0.0, 'f1': 0})])\n",
      "===============当前数据集是inspec============\n",
      "----------------macro------------\n",
      "all OrderedDict([(5, {'precision': 0.21800000000000105, 'recall': 0.20290705187746869, 'f1': 0.19052837376373974}), (10, {'precision': 0.1759285714285713, 'recall': 0.3128748371679622, 'f1': 0.20617866202517732}), (20, {'precision': 0.1294940912630539, 'recall': 0.41647489911152274, 'f1': 0.18308400441011133}), (50, {'precision': 0.11289736586584824, 'recall': 0.465448140412705, 'f1': 0.1679545281739785})])\n",
      "present OrderedDict([(5, {'precision': 0.24610999329309297, 'recall': 0.28253618069572634, 'f1': 0.2382275083071375}), (10, {'precision': 0.2035522659768134, 'recall': 0.44248432128358756, 'f1': 0.25504048889269465}), (20, {'precision': 0.17745890945553341, 'recall': 0.5684708130929581, 'f1': 0.2504873627962572}), (50, {'precision': 0.1752984369655123, 'recall': 0.5758183294001143, 'f1': 0.2488960710169958})])\n",
      "absent OrderedDict([(5, {'precision': 0.012102564102564106, 'recall': 0.029589743589743592, 'f1': 0.01606105006105006}), (10, {'precision': 0.010260073260073261, 'recall': 0.03584615384615385, 'f1': 0.014585995201379818}), (20, {'precision': 0.010405080524513723, 'recall': 0.04466666666666667, 'f1': 0.01507385165051069}), (50, {'precision': 0.010355591551947827, 'recall': 0.04466666666666667, 'f1': 0.014992506908296382})])\n",
      "----------------micro------------\n",
      "all OrderedDict([(5, {'precision': 0.218, 'recall': 0.15620521639438234, 'f1': 0.18200033394556686}), (10, {'precision': 0.17589249899719214, 'recall': 0.25136142161077674, 'f1': 0.20696165191740412}), (20, {'precision': 0.12705561956635592, 'recall': 0.34766408713098307, 'f1': 0.18610003068425895}), (50, {'precision': 0.10423988633814402, 'recall': 0.3995414158784752, 'f1': 0.16534218953860752})])\n",
      "present OrderedDict([(5, {'precision': 0.24458700882117082, 'recall': 0.22287175739861162, 'f1': 0.2332250047792009}), (10, {'precision': 0.20192307692307693, 'recall': 0.36061381074168797, 'f1': 0.2588852459016393}), (20, {'precision': 0.17215124532197704, 'recall': 0.48739495798319327, 'f1': 0.25443448407400343}), (50, {'precision': 0.1684936568542924, 'recall': 0.4998173182316405, 'f1': 0.25202652910832724})])\n",
      "absent OrderedDict([(5, {'precision': 0.0072064434082238235, 'recall': 0.022606382978723406, 'f1': 0.010928961748633882}), (10, {'precision': 0.005239520958083832, 'recall': 0.027925531914893616, 'f1': 0.008823529411764704}), (20, {'precision': 0.0050771333723882055, 'recall': 0.034574468085106384, 'f1': 0.008854077983994551}), (50, {'precision': 0.0049486105824134, 'recall': 0.034574468085106384, 'f1': 0.008658008658008658})])\n",
      "===============当前数据集是kp20k============\n",
      "----------------macro------------\n",
      "all OrderedDict([(5, {'precision': 0.1426130532392168, 'recall': 0.2503593091769847, 'f1': 0.1689910661094071}), (10, {'precision': 0.10370088681187632, 'recall': 0.34525552908773055, 'f1': 0.14712644228423297}), (20, {'precision': 0.07250123516927995, 'recall': 0.4313005575530848, 'f1': 0.11518470773245794}), (50, {'precision': 0.06031354593757955, 'recall': 0.4681489078634166, 'f1': 0.10053918816693654})])\n",
      "present OrderedDict([(5, {'precision': 0.1766951065366167, 'recall': 0.47049075363528, 'f1': 0.23536902018168435}), (10, {'precision': 0.13024791760332774, 'recall': 0.6400084898186034, 'f1': 0.19864924393030278}), (20, {'precision': 0.10319162421387898, 'recall': 0.7520382050839489, 'f1': 0.1680798467720608}), (50, {'precision': 0.10017986125049512, 'recall': 0.764893501345976, 'f1': 0.16472773990073544})])\n",
      "absent OrderedDict([(5, {'precision': 0.031754465052381484, 'recall': 0.07994169202271524, 'f1': 0.041641670307377615}), (10, {'precision': 0.025101685230163, 'recall': 0.10047925476146222, 'f1': 0.03647244258477842}), (20, {'precision': 0.023326666831528717, 'recall': 0.1112020859521574, 'f1': 0.034516377906809795}), (50, {'precision': 0.02318638106215889, 'recall': 0.11184167589977151, 'f1': 0.034301246201077586})])\n",
      "----------------micro------------\n",
      "all OrderedDict([(5, {'precision': 0.14260282145537828, 'recall': 0.22313290503914876, 'f1': 0.17400204307682676}), (10, {'precision': 0.10354550835789013, 'recall': 0.3230927524593455, 'f1': 0.15682983160520778}), (20, {'precision': 0.07140695812984835, 'recall': 0.42403131901224655, 'f1': 0.1222303081510503}), (50, {'precision': 0.0568260668527069, 'recall': 0.47310780967677174, 'f1': 0.10146494576756668})])\n",
      "present OrderedDict([(5, {'precision': 0.14656433571155275, 'recall': 0.4044038715744462, 'f1': 0.2151528310079861}), (10, {'precision': 0.10761863028446979, 'recall': 0.5817386598532635, 'f1': 0.18163561523929822}), (20, {'precision': 0.08297692680532735, 'recall': 0.7244563915577675, 'f1': 0.14889939171152247}), (50, {'precision': 0.07957640253456634, 'recall': 0.7483742758541151, 'f1': 0.14385623244558665})])\n",
      "absent OrderedDict([(5, {'precision': 0.02392556336456939, 'recall': 0.07932178315091135, 'f1': 0.03676255929121058}), (10, {'precision': 0.018578523472854276, 'recall': 0.10125865396840074, 'f1': 0.03139653853252271}), (20, {'precision': 0.016753716283529146, 'recall': 0.11370649900024271, 'f1': 0.0292044041120086}), (50, {'precision': 0.016545351901897053, 'recall': 0.11449243536251315, 'f1': 0.028912540004290475})])\n",
      "===============当前数据集是krapivin============\n",
      "----------------macro------------\n",
      "all OrderedDict([(5, {'precision': 0.13100436681222732, 'recall': 0.22195825266721741, 'f1': 0.15100676046080758}), (10, {'precision': 0.09386220281416825, 'recall': 0.3147078607809408, 'f1': 0.13468771756552098}), (20, {'precision': 0.06604655655811939, 'recall': 0.39719555977743753, 'f1': 0.10662021381974027}), (50, {'precision': 0.05628302720990243, 'recall': 0.4319213010068391, 'f1': 0.0936352790675216})])\n",
      "present OrderedDict([(5, {'precision': 0.16689373297002755, 'recall': 0.4505538890416274, 'f1': 0.2220871140624644}), (10, {'precision': 0.12131287574066907, 'recall': 0.615562502892203, 'f1': 0.18833636700617606}), (20, {'precision': 0.09509542888806194, 'recall': 0.7401858208397717, 'f1': 0.15737322606457188}), (50, {'precision': 0.09309567158782843, 'recall': 0.7619507649480398, 'f1': 0.15473885172725504})])\n",
      "absent OrderedDict([(5, {'precision': 0.031626235399820284, 'recall': 0.07320305480682839, 'f1': 0.041841072973148465}), (10, {'precision': 0.025659949514396936, 'recall': 0.093418688230009, 'f1': 0.037428975636522775}), (20, {'precision': 0.023995512839988062, 'recall': 0.10128032345013475, 'f1': 0.03531745972241965}), (50, {'precision': 0.02393990806740216, 'recall': 0.10128032345013475, 'f1': 0.035225781019467065})])\n",
      "----------------micro------------\n",
      "all OrderedDict([(5, {'precision': 0.13100436681222707, 'recall': 0.18337408312958436, 'f1': 0.15282730514518594}), (10, {'precision': 0.0937979399517861, 'recall': 0.2616136919315403, 'f1': 0.13808678819164383}), (20, {'precision': 0.0642413078517154, 'recall': 0.3410757946210269, 'f1': 0.10811858167021896}), (50, {'precision': 0.05021976233110858, 'recall': 0.37713936430317846, 'f1': 0.08863669013072835})])\n",
      "present OrderedDict([(5, {'precision': 0.13379973764757325, 'recall': 0.36342042755344417, 'f1': 0.1955896452540748}), (10, {'precision': 0.09611086276262852, 'recall': 0.5106888361045131, 'f1': 0.1617757712565839}), (20, {'precision': 0.07133225458468177, 'recall': 0.6282660332541568, 'f1': 0.12811818842334707}), (50, {'precision': 0.06837820914214152, 'recall': 0.6484560570071259, 'f1': 0.12371134020618557})])\n",
      "absent OrderedDict([(5, {'precision': 0.024987986544930323, 'recall': 0.0654911838790932, 'f1': 0.03617391304347826}), (10, {'precision': 0.01924198250728863, 'recall': 0.08312342569269521, 'f1': 0.031249999999999997}), (20, {'precision': 0.01668233082706767, 'recall': 0.08942065491183879, 'f1': 0.02811881188118812}), (50, {'precision': 0.01650778888630551, 'recall': 0.08942065491183879, 'f1': 0.02787046123650638})])\n",
      "===============当前数据集是nus============\n",
      "----------------macro------------\n",
      "all OrderedDict([(5, {'precision': 0.2464454976303319, 'recall': 0.1949360518117533, 'f1': 0.18838492498030426}), (10, {'precision': 0.17962085308056885, 'recall': 0.27328262793153174, 'f1': 0.19048838708424004}), (20, {'precision': 0.12327410090256188, 'recall': 0.34034523082294826, 'f1': 0.16314439306711626}), (50, {'precision': 0.10654545736010994, 'recall': 0.38282839722142126, 'f1': 0.1494417506357024})])\n",
      "present OrderedDict([(5, {'precision': 0.27236180904522633, 'recall': 0.3748217906575485, 'f1': 0.2860020651179128}), (10, {'precision': 0.2024008933556673, 'recall': 0.5334235829409064, 'f1': 0.2702629230431445}), (20, {'precision': 0.15734184341034382, 'recall': 0.6596812955183754, 'f1': 0.2353115374318561}), (50, {'precision': 0.15346572565647734, 'recall': 0.6817200321498124, 'f1': 0.23160473048571126})])\n",
      "absent OrderedDict([(5, {'precision': 0.025175438596491243, 'recall': 0.03144453960935955, 'f1': 0.022095773257554133}), (10, {'precision': 0.02319340016708438, 'recall': 0.051682152873288596, 'f1': 0.02514165092446982}), (20, {'precision': 0.022106699087308508, 'recall': 0.05989852714229443, 'f1': 0.024592084924021436}), (50, {'precision': 0.022072374144516748, 'recall': 0.05989852714229443, 'f1': 0.024529428282417425})])\n",
      "----------------micro------------\n",
      "all OrderedDict([(5, {'precision': 0.24644549763033174, 'recall': 0.13948497854077252, 'f1': 0.1781431997259335}), (10, {'precision': 0.17987660180351212, 'recall': 0.20332618025751073, 'f1': 0.1908839083354319}), (20, {'precision': 0.12196331184928111, 'recall': 0.26394849785407726, 'f1': 0.1668362156663276}), (50, {'precision': 0.09641638225255973, 'recall': 0.3031115879828326, 'f1': 0.1462972553081305})])\n",
      "present OrderedDict([(5, {'precision': 0.2573599240265907, 'recall': 0.31548311990686845, 'f1': 0.28347280334728037}), (10, {'precision': 0.19143819143819144, 'recall': 0.46332945285215366, 'f1': 0.27093260721579304}), (20, {'precision': 0.14257256687535572, 'recall': 0.5832363213038417, 'f1': 0.22913331808826892}), (50, {'precision': 0.13406537282941777, 'recall': 0.6111757857974389, 'f1': 0.21989528795811517})])\n",
      "absent OrderedDict([(5, {'precision': 0.02454642475987193, 'recall': 0.022885572139303482, 'f1': 0.023686920700308957}), (10, {'precision': 0.023316062176165803, 'recall': 0.03582089552238806, 'f1': 0.028246371125931737}), (20, {'precision': 0.02080083203328133, 'recall': 0.03980099502487562, 'f1': 0.0273224043715847}), (50, {'precision': 0.0205761316872428, 'recall': 0.03980099502487562, 'f1': 0.02712783994574432})])\n",
      "===============当前数据集是semeval============\n",
      "----------------macro------------\n",
      "all OrderedDict([(5, {'precision': 0.20202020202020188, 'recall': 0.08569262733701233, 'f1': 0.11877445961962245}), (10, {'precision': 0.15679012345679003, 'recall': 0.13315096552618824, 'f1': 0.1420695625705889}), (20, {'precision': 0.11519961519961519, 'recall': 0.18786626821386165, 'f1': 0.1403442895784155}), (50, {'precision': 0.09626485164399266, 'recall': 0.2230560223430098, 'f1': 0.13001298924939594})])\n",
      "present OrderedDict([(5, {'precision': 0.19797979797979784, 'recall': 0.20820816388998203, 'f1': 0.19018193092449587}), (10, {'precision': 0.16526374859708182, 'recall': 0.3533888670252307, 'f1': 0.21186763490685043}), (20, {'precision': 0.13555467866613377, 'recall': 0.49114412523503415, 'f1': 0.2003970841828747}), (50, {'precision': 0.13112489525447024, 'recall': 0.51648519830338, 'f1': 0.19632924036173668})])\n",
      "absent OrderedDict([(5, {'precision': 0.028282828282828285, 'recall': 0.020490368217640945, 'f1': 0.023213382972741267}), (10, {'precision': 0.020987654320987655, 'recall': 0.026242332302938366, 'f1': 0.022290696732788943}), (20, {'precision': 0.018002044612186276, 'recall': 0.029889919283858677, 'f1': 0.020790603570686347}), (50, {'precision': 0.01785293446307613, 'recall': 0.029889919283858677, 'f1': 0.020653292465942292})])\n",
      "----------------micro------------\n",
      "all OrderedDict([(5, {'precision': 0.20202020202020202, 'recall': 0.08382229673093043, 'f1': 0.11848341232227488}), (10, {'precision': 0.15736040609137056, 'recall': 0.12992455993294216, 'f1': 0.14233241505968777}), (20, {'precision': 0.1140625, 'recall': 0.18357082984073764, 'f1': 0.1407002891101831}), (50, {'precision': 0.08720347477447377, 'recall': 0.21877619446772842, 'f1': 0.12470138557095078})])\n",
      "present OrderedDict([(5, {'precision': 0.19838056680161945, 'recall': 0.20123203285420946, 'f1': 0.199796126401631}), (10, {'precision': 0.16615698267074414, 'recall': 0.3347022587268994, 'f1': 0.2220708446866485}), (20, {'precision': 0.1314878892733564, 'recall': 0.4681724845995893, 'f1': 0.20531292210715893}), (50, {'precision': 0.12332990750256938, 'recall': 0.4928131416837782, 'f1': 0.19728729963008634})])\n",
      "absent OrderedDict([(5, {'precision': 0.03076923076923077, 'recall': 0.019830028328611898, 'f1': 0.02411714039621016}), (10, {'precision': 0.022727272727272728, 'recall': 0.025495750708215296, 'f1': 0.024032042723631512}), (20, {'precision': 0.02021174205967276, 'recall': 0.029745042492917848, 'f1': 0.024068767908309453}), (50, {'precision': 0.02005730659025788, 'recall': 0.029745042492917848, 'f1': 0.023958927552766688})])\n"
     ]
    }
   ],
   "source": [
    "eval_topn = (5, 10)\n",
    "datasets = ['inspec', 'kp20k', 'krapivin', 'nus', 'semeval']\n",
    "for dataset in datasets:\n",
    "    pred_filename = '/mnt/KeyphraseExpansion/data/jsonl/'+dataset+'/'+dataset+'_pred.jsonl'\n",
    "    macro_evaluator = KeyphraseEvaluator(eval_topn, 'macro', 'title_and_abstract_tokens', 'keyword_tokens')\n",
    "    micro_evaluator = KeyphraseEvaluator(eval_topn, 'micro', 'title_and_abstract_tokens', 'keyword_tokens')\n",
    "    macro_all_ret = macro_evaluator.evaluate(pred_filename)\n",
    "    macro_present_ret = macro_evaluator.evaluate(pred_filename, 'present')\n",
    "    macro_absent_ret = macro_evaluator.evaluate(pred_filename, 'absent')\n",
    "    \n",
    "    \n",
    "    print(\"===============当前数据集是\"+dataset+'============')\n",
    "    print(\"----------------macro------------\")\n",
    "    print('all',macro_all_ret)\n",
    "    print('present',macro_present_ret)\n",
    "    print('absent',macro_absent_ret)\n",
    "\n",
    "    \n",
    "\n",
    "\n"
   ]
  },
  {
   "cell_type": "code",
   "execution_count": 5,
   "metadata": {},
   "outputs": [
    {
     "data": {
      "text/plain": [
       "OrderedDict([(5,\n",
       "              {'precision': 0.04220779220779217,\n",
       "               'recall': 0.04625592661306946,\n",
       "               'f1': 0.04292035525801757}),\n",
       "             (10,\n",
       "              {'precision': 0.03928571428571423,\n",
       "               'recall': 0.08551587301587299,\n",
       "               'f1': 0.05250894831003188})])"
      ]
     },
     "execution_count": 5,
     "metadata": {},
     "output_type": "execute_result"
    }
   ],
   "source": [
    "macro_all_ret"
   ]
  },
  {
   "cell_type": "code",
   "execution_count": 8,
   "metadata": {},
   "outputs": [
    {
     "name": "stdout",
     "output_type": "stream",
     "text": [
      "===============当前数据集是kp20k============\n",
      "----------------macro------------\n",
      "all OrderedDict([(5, {'precision': 0.08757697456493668, 'recall': 0.15332336678750044, 'f1': 0.10334305144651217}), (10, {'precision': 0.061501800854211655, 'recall': 0.2063961891139875, 'f1': 0.08741034080513405})])\n",
      "present OrderedDict([(5, {'precision': 0.140945024440292, 'recall': 0.3447319765289255, 'f1': 0.1804928925383805}), (10, {'precision': 0.1207323369474062, 'recall': 0.4290030375913723, 'f1': 0.1687355447678481})])\n",
      "absent OrderedDict([(5, {'precision': 0.022010203852290775, 'recall': 0.061818530867561845, 'f1': 0.030143650491405133}), (10, {'precision': 0.016147992247041016, 'recall': 0.08546583716577413, 'f1': 0.025555146693864942})])\n"
     ]
    }
   ],
   "source": [
    "# RNN\n",
    "eval_topn = (5, 10)\n",
    "datasets = ['kp20k']\n",
    "for dataset in datasets:\n",
    "    pred_filename = '/mnt/KeyphraseExpansion/data/jsonl/'+dataset+'/'+dataset+'_pred_rnn.jsonl'\n",
    "    macro_evaluator = KeyphraseEvaluator(eval_topn, 'macro', 'title_and_abstract_tokens', 'keyword_tokens')\n",
    "    micro_evaluator = KeyphraseEvaluator(eval_topn, 'micro', 'title_and_abstract_tokens', 'keyword_tokens')\n",
    "    macro_all_ret = macro_evaluator.evaluate(pred_filename)\n",
    "    macro_present_ret = macro_evaluator.evaluate(pred_filename, 'present')\n",
    "    macro_absent_ret = macro_evaluator.evaluate(pred_filename, 'absent')\n",
    "    \n",
    "    \n",
    "    print(\"===============当前数据集是\"+dataset+'============')\n",
    "    print(\"----------------macro------------\")\n",
    "    print('all',macro_all_ret)\n",
    "    print('present',macro_present_ret)\n",
    "    print('absent',macro_absent_ret)"
   ]
  },
  {
   "cell_type": "code",
   "execution_count": 7,
   "metadata": {},
   "outputs": [
    {
     "name": "stdout",
     "output_type": "stream",
     "text": [
      "===============当前数据集是kp20k============\n",
      "----------------macro------------\n",
      "all OrderedDict([(5, {'precision': 0.1349999999999968, 'recall': 0.23826500335344902, 'f1': 0.16069566565482857}), (10, {'precision': 0.09955657949256355, 'recall': 0.3341393095004152, 'f1': 0.14203475609606014})])\n",
      "present OrderedDict([(5, {'precision': 0.16521533602880042, 'recall': 0.4454348195375525, 'f1': 0.22124852242474224}), (10, {'precision': 0.12357683100998493, 'recall': 0.6215006861781975, 'f1': 0.18975101134254033})])\n",
      "absent OrderedDict([(5, {'precision': 0.025648978490997933, 'recall': 0.06502147698851163, 'f1': 0.03366534367009645}), (10, {'precision': 0.020340920401604044, 'recall': 0.08478847569826514, 'f1': 0.02982614802784705})])\n"
     ]
    }
   ],
   "source": [
    "# COPYRNN\n",
    "eval_topn = (5, 10)\n",
    "datasets = ['kp20k']\n",
    "for dataset in datasets:\n",
    "    pred_filename = '/mnt/KeyphraseExpansion/data/jsonl/'+dataset+'/'+dataset+'_pred_copyrnn.jsonl'\n",
    "    macro_evaluator = KeyphraseEvaluator(eval_topn, 'macro', 'title_and_abstract_tokens', 'keyword_tokens')\n",
    "    micro_evaluator = KeyphraseEvaluator(eval_topn, 'micro', 'title_and_abstract_tokens', 'keyword_tokens')\n",
    "    macro_all_ret = macro_evaluator.evaluate(pred_filename)\n",
    "    macro_present_ret = macro_evaluator.evaluate(pred_filename, 'present')\n",
    "    macro_absent_ret = macro_evaluator.evaluate(pred_filename, 'absent')\n",
    "    \n",
    "    \n",
    "    print(\"===============当前数据集是\"+dataset+'============')\n",
    "    print(\"----------------macro------------\")\n",
    "    print('all',macro_all_ret)\n",
    "    print('present',macro_present_ret)\n",
    "    print('absent',macro_absent_ret)"
   ]
  },
  {
   "cell_type": "code",
   "execution_count": 10,
   "metadata": {},
   "outputs": [
    {
     "name": "stdout",
     "output_type": "stream",
     "text": [
      "===============当前数据集是inspec============\n",
      "----------------macro------------\n",
      "all OrderedDict([(5, {'precision': 0.1436000000000004, 'recall': 0.094012933126469, 'f1': 0.10696648385989906}), (10, {'precision': 0.14539999999999909, 'recall': 0.17988368176394576, 'f1': 0.1513628366378814})])\n",
      "===============当前数据集是krapivin============\n",
      "----------------macro------------\n",
      "all OrderedDict([(5, {'precision': 0.06826086956521726, 'recall': 0.07126484293103286, 'f1': 0.0662298715067257}), (10, {'precision': 0.05326086956521743, 'recall': 0.10411547614864024, 'f1': 0.06669582702152975})])\n",
      "===============当前数据集是nus============\n",
      "----------------macro------------\n",
      "all OrderedDict([(5, {'precision': 0.0938388625592416, 'recall': 0.042951914087983004, 'f1': 0.05497804600653431}), (10, {'precision': 0.07488151658767764, 'recall': 0.07225841004077913, 'f1': 0.06817841592964122})])\n",
      "===============当前数据集是semeval============\n",
      "----------------macro------------\n",
      "all OrderedDict([(5, {'precision': 0.11999999999999994, 'recall': 0.04100277750746615, 'f1': 0.06064783844055616}), (10, {'precision': 0.09199999999999992, 'recall': 0.06135362136456865, 'f1': 0.07281980444716975})])\n",
      "===============当前数据集是kp20k============\n",
      "----------------macro------------\n",
      "all OrderedDict([(5, {'precision': 0.1109200000000082, 'recall': 0.11540459455768141, 'f1': 0.10847863053869294}), (10, {'precision': 0.07859499999999563, 'recall': 0.16119736462339398, 'f1': 0.10110316890169427})])\n"
     ]
    }
   ],
   "source": [
    "# tfidf\n",
    "eval_topn = (5, 10)\n",
    "datasets = ['inspec','krapivin','nus','semeval','kp20k']\n",
    "for dataset in datasets:\n",
    "    pred_filename = '/mnt/KeyphraseExpansion/data/jsonl/'+dataset+'/'+dataset+'_pred_tfidf.jsonl'\n",
    "    macro_evaluator = KeyphraseEvaluator(eval_topn, 'macro', 'title_and_abstract_tokens', 'keyword_tokens')\n",
    "    micro_evaluator = KeyphraseEvaluator(eval_topn, 'micro', 'title_and_abstract_tokens', 'keyword_tokens')\n",
    "    macro_all_ret = macro_evaluator.evaluate(pred_filename)\n",
    "    macro_present_ret = macro_evaluator.evaluate(pred_filename, 'present')\n",
    "    macro_absent_ret = macro_evaluator.evaluate(pred_filename, 'absent')\n",
    "    \n",
    "    \n",
    "    print(\"===============当前数据集是\"+dataset+'============')\n",
    "    print(\"----------------macro------------\")\n",
    "    print('all',macro_all_ret)"
   ]
  },
  {
   "cell_type": "code",
   "execution_count": 11,
   "metadata": {},
   "outputs": [
    {
     "name": "stdout",
     "output_type": "stream",
     "text": [
      "===============当前数据集是inspec============\n",
      "----------------macro------------\n",
      "all OrderedDict([(5, {'precision': 0.2496000000000011, 'recall': 0.14259781158177867, 'f1': 0.17152419229590538}), (10, {'precision': 0.19330079365079358, 'recall': 0.21188892297357417, 'f1': 0.19099775735914157})])\n",
      "===============当前数据集是krapivin============\n",
      "----------------macro------------\n",
      "all OrderedDict([(5, {'precision': 0.08782608695652173, 'recall': 0.07819025770710049, 'f1': 0.07648560097112764}), (10, {'precision': 0.07239130434782626, 'recall': 0.11997715513237463, 'f1': 0.08368505254332474})])\n",
      "===============当前数据集是nus============\n",
      "----------------macro------------\n",
      "all OrderedDict([(5, {'precision': 0.0881516587677724, 'recall': 0.04365951432160253, 'f1': 0.053609125357062665}), (10, {'precision': 0.07440758293838853, 'recall': 0.07283185634116476, 'f1': 0.06821442875556169})])\n",
      "===============当前数据集是semeval============\n",
      "----------------macro------------\n",
      "all OrderedDict([(5, {'precision': 0.058000000000000024, 'recall': 0.018403993895266445, 'f1': 0.027677971593095187}), (10, {'precision': 0.049, 'recall': 0.03247368967935853, 'f1': 0.03862352434754983})])\n",
      "===============当前数据集是kp20k============\n",
      "----------------macro------------\n",
      "all OrderedDict([(5, {'precision': 0.06440000000000601, 'recall': 0.06962122228141904, 'f1': 0.0645046320805706}), (10, {'precision': 0.04961700396825962, 'recall': 0.10447299876955339, 'f1': 0.06475860913363604})])\n"
     ]
    }
   ],
   "source": [
    "# textrank\n",
    "eval_topn = (5, 10)\n",
    "datasets = ['inspec','krapivin','nus','semeval','kp20k']\n",
    "for dataset in datasets:\n",
    "    pred_filename = '/mnt/KeyphraseExpansion/data/jsonl/'+dataset+'/'+dataset+'_pred_textrank.jsonl'\n",
    "    macro_evaluator = KeyphraseEvaluator(eval_topn, 'macro', 'title_and_abstract_tokens', 'keyword_tokens')\n",
    "    micro_evaluator = KeyphraseEvaluator(eval_topn, 'micro', 'title_and_abstract_tokens', 'keyword_tokens')\n",
    "    macro_all_ret = macro_evaluator.evaluate(pred_filename)\n",
    "    macro_present_ret = macro_evaluator.evaluate(pred_filename, 'present')\n",
    "    macro_absent_ret = macro_evaluator.evaluate(pred_filename, 'absent')\n",
    "    \n",
    "    \n",
    "    print(\"===============当前数据集是\"+dataset+'============')\n",
    "    print(\"----------------macro------------\")\n",
    "    print('all',macro_all_ret)"
   ]
  }
 ],
 "metadata": {
  "kernelspec": {
   "display_name": "myconda",
   "language": "python",
   "name": "myconda"
  },
  "language_info": {
   "codemirror_mode": {
    "name": "ipython",
    "version": 3
   },
   "file_extension": ".py",
   "mimetype": "text/x-python",
   "name": "python",
   "nbconvert_exporter": "python",
   "pygments_lexer": "ipython3",
   "version": "3.8.5"
  }
 },
 "nbformat": 4,
 "nbformat_minor": 4
}
