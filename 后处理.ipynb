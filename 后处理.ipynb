{
 "cells": [
  {
   "cell_type": "code",
   "execution_count": 1,
   "metadata": {},
   "outputs": [
    {
     "name": "stderr",
     "output_type": "stream",
     "text": [
      "<ipython-input-1-0b9e6023b198>:4: DeprecationWarning: Using or importing the ABCs from 'collections' instead of from 'collections.abc' is deprecated since Python 3.3, and in 3.9 it will stop working\n",
      "  from collections import Iterable\n"
     ]
    }
   ],
   "source": [
    "import json\n",
    "import os\n",
    "import gzip\n",
    "from collections import Iterable\n",
    "import configparser\n",
    "from pysenal import read_jsonline, write_json, append_line\n",
    "\n",
    "_ENCODING_UTF8 = 'utf-8'"
   ]
  },
  {
   "cell_type": "code",
   "execution_count": 32,
   "metadata": {},
   "outputs": [],
   "source": [
    "def houchuli(src, tgt):\n",
    "    dict_list = read_jsonline(src)\n",
    "    for dd in dict_list:\n",
    "        shou = []\n",
    "        remove_list = []\n",
    "        for key in dd['given_keyword_tokens']:\n",
    "            if len(key) != 0:\n",
    "                shou.append(key[0])\n",
    "        for key in dd['pred_keyphrases']:\n",
    "            if key[0] in shou:\n",
    "                remove_list.append(key)\n",
    "        for remove in remove_list:\n",
    "            dd['pred_keyphrases'].remove(remove)\n",
    "    for dd in dict_list:\n",
    "        filename = tgt\n",
    "        append_line(filename, json.dumps(dd))\n",
    "        \n",
    "        \n",
    "datasets = ['inspec', 'krapivin', 'nus', 'semeval', 'kp20k']\n",
    "for data in datasets:\n",
    "    src = '/mnt/KeyphraseExpansion/data/jsonl/'+data+'/'+data+'_pred.jsonl'\n",
    "    tgt = '/mnt/KeyphraseExpansion/data/jsonl/'+data+'/'+data+'_pred_hou.jsonl'\n",
    "    houchuli(src, tgt)"
   ]
  },
  {
   "cell_type": "code",
   "execution_count": 33,
   "metadata": {},
   "outputs": [
    {
     "name": "stdout",
     "output_type": "stream",
     "text": [
      "inspec\n",
      "all 0.21207773287294557\n",
      "all 0.21806019872200694\n",
      "krapivin\n",
      "all 0.16063306331855168\n",
      "all 0.1379028933051004\n",
      "nus\n",
      "all 0.17777682249664215\n",
      "all 0.17340667452404843\n",
      "semeval\n",
      "all 0.1204180065394617\n",
      "all 0.1406252943764692\n",
      "kp20k\n",
      "all 0.1807794833769905\n",
      "all 0.15376315713925598\n"
     ]
    }
   ],
   "source": [
    "from evaluation import KeyphraseEvaluator\n",
    "eval_topn = (5, 10)\n",
    "for data in datasets:\n",
    "    pred_filename = '/mnt/KeyphraseExpansion/data/jsonl/'+data+'/'+data+'_pred_hou.jsonl'\n",
    "    macro_evaluator = KeyphraseEvaluator(eval_topn, 'macro', 'title_and_abstract_tokens', 'keyword_tokens')\n",
    "    macro_all_ret = macro_evaluator.evaluate(pred_filename)\n",
    "    print(data)\n",
    "    print('all',macro_all_ret[5]['f1'])\n",
    "    print('all',macro_all_ret[10]['f1'])"
   ]
  },
  {
   "cell_type": "code",
   "execution_count": 28,
   "metadata": {},
   "outputs": [
    {
     "data": {
      "text/plain": [
       "0.18077948337703306"
      ]
     },
     "execution_count": 28,
     "metadata": {},
     "output_type": "execute_result"
    }
   ],
   "source": [
    "macro_all_ret[5]['f1']"
   ]
  },
  {
   "cell_type": "code",
   "execution_count": null,
   "metadata": {},
   "outputs": [],
   "source": []
  }
 ],
 "metadata": {
  "kernelspec": {
   "display_name": "myconda",
   "language": "python",
   "name": "myconda"
  },
  "language_info": {
   "codemirror_mode": {
    "name": "ipython",
    "version": 3
   },
   "file_extension": ".py",
   "mimetype": "text/x-python",
   "name": "python",
   "nbconvert_exporter": "python",
   "pygments_lexer": "ipython3",
   "version": "3.8.5"
  }
 },
 "nbformat": 4,
 "nbformat_minor": 4
}
